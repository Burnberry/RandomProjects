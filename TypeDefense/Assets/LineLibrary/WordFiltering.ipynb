{
 "cells": [
  {
   "cell_type": "markdown",
   "id": "d08de5b7",
   "metadata": {},
   "source": [
    "# Word filter\n",
    "### -Remove duplicates from different sets\n",
    "### -Filter words from a set word by word manually\n",
    "### -Create set manually\n",
    "### -Difficulty categorization? (needs testing for scoring)"
   ]
  },
  {
   "cell_type": "code",
   "execution_count": 6,
   "id": "46ca0911",
   "metadata": {},
   "outputs": [],
   "source": [
    "from IPython.display import clear_output\n",
    "from pyperclip import copy\n",
    "\n",
    "def filter_basic(a):\n",
    "    A = set(a)\n",
    "    for word in A:\n",
    "        if \" \" in word:\n",
    "            a.remove(word)\n",
    "    return a\n",
    "\n",
    "def filter_plural(a):\n",
    "    A = set(a)\n",
    "    for word in a:\n",
    "        if word in A:\n",
    "            suffixes = [\"s\", \"ing\"]\n",
    "            for suf in suffixes:\n",
    "                if word + suf in A:\n",
    "                    A.remove(word+suf)\n",
    "                    a.remove(word+suf)\n",
    "                \n",
    "    return a\n",
    "    \n",
    "def filter_list(a):\n",
    "    x = []\n",
    "    print(\"Press enter to continue, empty line accepts input, anything else filters it\")\n",
    "    prev = \"\"\n",
    "    n = 0\n",
    "    added = 0\n",
    "    todo = len(a)\n",
    "    for line in a:\n",
    "        if prev != \"\": print(\"previous line:\", prev, \"added:\", added, \"todo:\", todo)\n",
    "        print(line)\n",
    "        copy(line)\n",
    "        prev = line\n",
    "        i = input()\n",
    "        if i == \"\":\n",
    "            x.append(line)\n",
    "            added += 1\n",
    "        elif i == \"pause\":\n",
    "            print(\"pausing, returned (x, x_unfiltered)\")\n",
    "            return (x, a[n:])\n",
    "        clear_output()\n",
    "        n += 1\n",
    "        todo -= 1\n",
    "    return x\n",
    "\n",
    "def create_list(tag=\"default\", x = []):\n",
    "    while(True):\n",
    "        line = input()\n",
    "        clear_output()\n",
    "        if line == \"end\":\n",
    "            return x\n",
    "        elif line == \"d\":\n",
    "            x.pop()\n",
    "        elif line in x:\n",
    "            print(\"already inserted\")\n",
    "        else:\n",
    "            x.append(line)\n",
    "        print(len(x), \"Lines for tag:\", tag)\n",
    "        print(\"previous:\", x[-1])"
   ]
  },
  {
   "cell_type": "markdown",
   "id": "2cc9590b",
   "metadata": {},
   "source": [
    "## Combine lists"
   ]
  },
  {
   "cell_type": "code",
   "execution_count": 18,
   "id": "64ddf25b",
   "metadata": {},
   "outputs": [
    {
     "name": "stdout",
     "output_type": "stream",
     "text": [
      "['peer', 'hamburger', 'appel']\n"
     ]
    }
   ],
   "source": [
    "a = [\"appel\", \"peer\"]\n",
    "b = [\"hamburger\", \"worst met appelmoes\"]\n",
    "print(filter_basic(a + b))"
   ]
  },
  {
   "cell_type": "markdown",
   "id": "a07531a7",
   "metadata": {},
   "source": [
    "## filter list"
   ]
  },
  {
   "cell_type": "code",
   "execution_count": 20,
   "id": "e57d55ea",
   "metadata": {},
   "outputs": [
    {
     "name": "stdout",
     "output_type": "stream",
     "text": [
      "410\n",
      "321\n"
     ]
    }
   ],
   "source": [
    "x_uf = [\"ranch\", \"agriculture\", \"dairy\", \"livestock\", \"vineyard\", \"farmer\", \"dairy farm\", \"orchard\", \"cattle\", \"plantation\", \"pasture\", \"rural\", \"crop\", \"piggery\", \"farmyard\", \"agricultural\", \"farmhouse\", \"farming\", \"grow\", \"farmstead\", \"farmland\", \"barn\", \"dairy farming\", \"feedlot\", \"produce\", \"hog\", \"animal husbandry\", \"raise\", \"smallholding\", \"grange\", \"work\", \"tractor\", \"cultivate\", \"husbandry\", \"croft\", \"land\", \"truck farm\", \"sheepwalk\", \"ox\", \"rancher\", \"monoculture\", \"cow\", \"farmhand\", \"cultivator\", \"goat\", \"harvest\", \"agrarian\", \"barnyard\", \"poultry farming\", \"cattle ranch\", \"grower\", \"crops\", \"sheep\", \"wind farm\", \"cowshed\", \"meat\", \"manure\", \"poultry\", \"corn\", \"field\", \"grazing\", \"beef\", \"estate\", \"RELATED WORDS CONTINUE AFTER ADVERTISEMENT\", \"cows\", \"pig\", \"horticulture\", \"cattleman\", \"hay\", \"cowman\", \"cornfield\", \"dairy cattle\", \"collective farming\", \"fiber\", \"biofuel\", \"commodity\", \"cultivable\", \"carry\", \"spread\", \"keep\", \"collect\", \"workplace\", \"aquaculture\", \"farmery\", \"farmscape\", \"hydroponics\", \"cultivation\", \"farmable\", \"agriculturist\", \"ferm\", \"farms\", \"epoch\", \"holocene\", \"overcrop\", \"tillage\", \"sheeprun\", \"farm-place\", \"overproduce\", \"home-farm\", \"vinery\", \"farmplace\", \"till\", \"hectare\", \"farmers\", \"farmwork\", \"superfarm\", \"cereal\", \"hunter-gatherer\", \"agronomy\", \"fielden\", \"mill\", \"heifer\", \"plant\", \"countryside\", \"agroecosystem\", \"farmstand\", \"pastoralism\", \"plants\", \"arable land\", \"wheat\", \"farmgate\", \"cottage\", \"lumber\", \"timber\", \"small\", \"rancho\", \"ranching\", \"nursery\", \"factory\", \"food\", \"grain\", \"moshav\", \"ranches\", \"pig farming\", \"forest\", \"arboriculture\", \"mills\", \"growers\", \"large\", \"abandoned\", \"subsidies\", \"creek\", \"construction\", \"craw\", \"plow\", \"area\", \"farm out\", \"village\", \"acres\", \"fishing\", \"worker\", \"grove\", \"planting\", \"tobacco\", \"pond\", \"plantations\", \"park\", \"rice\", \"grass\", \"holstein\", \"raised\", \"factories\", \"fish\", \"spring\", \"california\", \"workers\", \"prairie\", \"paddy\", \"ranchers\", \"cotton\", \"breeding\", \"peasant\", \"grown\", \"purchased\", \"garden\", \"raising\", \"property\", \"intercrop\", \"owners\", \"logging\", \"farmwear\", \"acreage\", \"thriving\", \"owned\", \"subsidy\", \"feed\", \"harvesting\", \"home\", \"udder\", \"elk\", \"town\", \"areas\", \"forestry\", \"wood\", \"livestock farm\", \"industry\", \"merestead\", \"cutting\", \"subsidized\", \"herds\", \"largest\", \"farmboy\", \"piglet\", \"heaf\", \"bovine\", \"farmgirl\", \"fairground\", \"farmworker\", \"fur farm\", \"cattle station\", \"rowen\", \"beanfield\", \"fertilize\", \"bos\", \"raise crop\", \"stud farm\", \"sewage farm\", \"cattle farm\", \"pig farm\", \"do work\", \"truck garden\", \"take in\", \"chicken farm\", \"hire out\", \"steelbow\", \"grow corn\", \"maizefield\", \"fertile crescent\", \"inseminate\", \"mutton\", \"eatage\", \"friesian\", \"grow food\", \"swine\", \"sower\", \"feudal land tenure\", \"landfarming\", \"organic farm\", \"lamb\", \"mammal\", \"paddock\", \"stirk\", \"milk\", \"cowyard\", \"regrow\", \"pigsty\", \"tenant farmer\", \"piggy\", \"neolithic revolution\", \"geologic time scale\", \"cowlike\", \"cowy\", \"noncow\", \"anticow\", \"dairyhouse\", \"hereford\", \"calf\", \"cowpoke\", \"dogie\", \"acre\", \"scur\", \"aftergrowth\", \"cowpool\", \"british agricultural revolution\", \"gold farm\", \"cowshit\", \"cowpie\", \"green revolution\", \"vicontiels\", \"cream\", \"grow crop\", \"fieldman\", \"butter\", \"cowhouse\", \"cow pasture\", \"farm animal\", \"headage\", \"cheese\", \"pigweed\", \"herbivorous\", \"ovine\", \"cowperson\", \"miscrop\", \"cowpooling\", \"croftland\", \"veal\", \"intergrown\", \"ungrown\", \"bovid\", \"sheeple\", \"uncropped\", \"intergrow\", \"paddyland\", \"misgrow\", \"tank farm\", \"fish farm\", \"growingly\", \"ingrow\", \"grainfield\", \"growable\", \"shoat\", \"agrochemical\", \"floriculturist\", \"maize\", \"mink farm\", \"homestead\", \"dairyman\", \"slaughterhouse\", \"breeder\", \"abattoir\", \"apiary\", \"goats\", \"monticule\", \"herd\", \"creamery\", \"chickens\", \"agribusiness\", \"pastureland\", \"beekeeping\", \"cannery\", \"agri\", \"greenhouses\", \"arable\", \"stockyard\", \"harvester\", \"haying\", \"winery\", \"hatchery\", \"sawmill\", \"hayfield\", \"wheelwright\", \"vegetable\", \"windmill\", \"watermill\", \"alfalfa\", \"cultivate land\", \"crop rotation\", \"silage\", \"market gardening\", \"chicken\", \"wild flower\", \"hill farm\", \"broiler\", \"turkeys\", \"cow shed\", \"black angus\", \"duck\", \"corporate farming\", \"fonterra\", \"fowl\", \"hunter gatherer\", \"produce food\", \"intensive farming\", \"organic farming\", \"give milk\", \"vertical farming\", \"order field\", \"farm yard\", \"paddy field\", \"ant farm\", \"sunday house\", \"farm land\", \"faming\", \"suckler\", \"packinghouse\", \"herefords\", \"woolshed\", \"shamba\", \"sheller\", \"cheesemaking\", \"horseshoer\", \"weaner\", \"cheesemaker\", \"packhouse\", \"farmer's field\", \"feudalism\", \"eat grass\", \"find on farm\", \"puppy mill\", \"grow vegetable\", \"democracy\", \"modernization\", \"in countryside\", \"mechanization\", \"cowboy movie\", \"scalar field\", \"product\", \"domestic goat\", \"commutative ring\", \"feorm fultum\", \"gentleman farmer\", \"rural area\", \"farm runoff\", \"plant seed\", \"holstein friesian cattle\", \"rangeland\", \"rice grow\", \"norwegian red\", \"integral domain\", \"kostroma cattle\", \"noetherian domain\", \"domestic sheep\", \"grow op\", \"chine cotton\", \"brown swiss\", \"western world\", \"pakistan\", \"station\", \"australia\", \"plough\"]\n",
    "x0 = filter_basic(x_uf)\n",
    "print(len(x_uf))\n",
    "print(len(x0))\n",
    "#x = filter_list(x0)"
   ]
  },
  {
   "cell_type": "markdown",
   "id": "e331b8d2",
   "metadata": {},
   "source": [
    "# Cases"
   ]
  },
  {
   "cell_type": "code",
   "execution_count": null,
   "id": "cb35365f",
   "metadata": {},
   "outputs": [],
   "source": [
    "# Template\n",
    "data_raw = []\n",
    "data = filter_basic(data_raw)\n",
    "data = filter_plural(data)\n",
    "\n",
    "tag = filter_list(data)"
   ]
  },
  {
   "cell_type": "markdown",
   "id": "ecf6b3af",
   "metadata": {},
   "source": [
    "### Bat"
   ]
  },
  {
   "cell_type": "code",
   "execution_count": 9,
   "id": "45e8231a",
   "metadata": {},
   "outputs": [],
   "source": [
    "bat = ['bat', 'wings', 'fangs', 'blood', 'vampire', 'drains', 'mammal', 'cave', 'darkness', 'dusk', 'screeches', 'echolocation', 'blind', 'rabies', 'swoop']\n",
    "bat = create_list(\"bat\", bat)"
   ]
  },
  {
   "cell_type": "code",
   "execution_count": 10,
   "id": "2a879d98",
   "metadata": {},
   "outputs": [
    {
     "name": "stdout",
     "output_type": "stream",
     "text": [
      "15\n",
      "['bat', 'wings', 'fangs', 'blood', 'vampire', 'drains', 'mammal', 'cave', 'darkness', 'dusk', 'screeches', 'echolocation', 'blind', 'rabies', 'swoop']\n"
     ]
    }
   ],
   "source": [
    "print(len(bat))\n",
    "print(bat)"
   ]
  },
  {
   "cell_type": "code",
   "execution_count": 35,
   "id": "4aa8f4e4",
   "metadata": {},
   "outputs": [
    {
     "name": "stdout",
     "output_type": "stream",
     "text": [
      "previous line: thyropteridae added: 25 todo: 169\n",
      "furipteridae\n",
      "pause\n",
      "pausing, returned (x, x_unfiltered)\n"
     ]
    }
   ],
   "source": [
    "# Template\n",
    "data_raw = [\"order\", \"vampire\", \"eocene\", \"nocturnal\", \"insectivore\", \"megabat\", \"microbat\", \"yangochiroptera\", \"hematophagy\", \"megadermatidae\", \"frugivore\", \"mexican free-tailed bat\", \"onychonycteris\", \"wing\", \"bird\", \"skin\", \"flower\", \"sloth\", \"green river formation\", \"gibbon\", \"patagium\", \"pollinator\", \"guano\", \"pesticide\", \"pathogen\", \"yinpterochiroptera\", \"pterosaur\", \"nectarivore\", \"primate\", \"europe\", \"carnivora\", \"pangolin\", \"vampire bat\", \"basal\", \"kitti's hog-nosed bat\", \"giant golden-crowned flying fox\", \"animal echolocation\", \"blood\", \"RELATED WORDS CONTINUE AFTER ADVERTISEMENT\", \"pteropodidae\", \"natural reservoir\", \"craseonycteridae\", \"rhinopomatidae\", \"hipposideridae\", \"mormoopidae\", \"emballonuridae\", \"odd-toed ungulate\", \"hibernation\", \"mammal\", \"mammals\", \"flight\", \"rodents\", \"dusk\", \"dawn\", \"echolocation\", \"predator\", \"prey\", \"birds\", \"rabies\", \"cave\", \"skeleton\", \"tree\", \"uk\", \"cetacea\", \"insect\", \"species\", \"carnivorous\", \"archonta\", \"treeshrew\", \"circulatory system\", \"colugo\", \"arctic\", \"laurasiatheria\", \"vespertilionidae\", \"fereuungulata\", \"genetics\", \"antarctic\", \"ocean\", \"euarchontoglires\", \"eulipotyphla\", \"insects\", \"cetartiodactyla\", \"phylogeny\", \"monophyly\", \"monophyletic\", \"rhinolophidae\", \"ultrasound\", \"miniopteridae\", \"ontogeny\", \"noctilionidae\", \"rodent\", \"pteronotus\", \"mystacinidae\", \"thyropteridae\", \"furipteridae\", \"primates\", \"mormoops\", \"phyllostomidae\", \"molossidae\", \"cochlea\", \"myzopodidae\", \"taphozous\", \"natalidae\", \"fossil\", \"bat flight\", \"peel\", \"glide\", \"derived\", \"calcium\", \"trait\", \"embryo\", \"bending\", \"stress\", \"radius\", \"paraphyly\", \"carboniferous\", \"icaronycteris\", \"drag\", \"palaeochiropteryx\", \"pacific rim\", \"stall\", \"germanic languages\", \"archaeopteryx\", \"vespertilio\", \"nerve\", \"middle english\", \"muscle\", \"ancient greek language\", \"epidermis\", \"palaeochiropteryx tupaiodon\", \"dermis\", \"hassianycteris kumari\", \"sarawak\", \"batman\", \"rousettus\", \"north america\", \"frugivory\", \"collagen\", \"stability\", \"apoptosis\", \"insectivory\", \"hummingbird\", \"piscivore\", \"vortex\", \"sister taxon\", \"sclerotization\", \"even-toed ungulate\", \"vein\", \"heart\", \"upregulation\", \"echo\", \"flying primate hypothesis\", \"chitin\", \"common pipistrelle\", \"sonar\", \"kidney\", \"submarine\", \"urine\", \"electrolyte\", \"cutaneous\", \"ship\", \"biologist\", \"decibels\", \"larynx\", \"dinobird\", \"butterfly\", \"moth\", \"dragonfly\", \"night\", \"arctiidae\", \"horseshoe bat\", \"hundred\", \"ultraviolet\", \"latitude\", \"thousand\", \"chitinase\", \"magnetite\", \"maltase\", \"dollar\", \"sucrase\", \"science\", \"sphincter\", \"capillary\", \"placental mammal\", \"shunt\", \"torpor\", \"thermoregulation\", \"hand\", \"metabolism\", \"carl linnaeus\", \"johann friedrich blumenbach\", \"nose-leaf\", \"tymbal\", \"aye-aye\", \"bone\", \"crepuscular\", \"tooth enamel\", \"mechanical advantage\", \"tragus\", \"aposematic\", \"flies\", \"mosquito\", \"flying squirrel\", \"beetle\", \"finger\", \"grasshopper\", \"ground speed\", \"cricket\", \"termite\", \"bee\", \"bone morphogenetic protein\", \"magnetoreception\", \"wasp\", \"mayflies\", \"bone morphogenetic protein 2\", \"mosaic evolution\", \"shear stress\", \"membrane\", \"homeothermic\", \"heterothermy\", \"leading edge\", \"tongue\", \"trailing edge\", \"merkel cell\", \"inflammation\", \"connective tissue\", \"elastic fibre\", \"blood vessel\", \"cattle\", \"aestivation\", \"anticoagulant\", \"ebola\", \"western culture\", \"hair follicle\", \"owls\", \"sweat gland\", \"hawks\", \"pteropus\", \"falcons\", \"crocodile\", \"nocturnality\", \"snake\", \"vortex lift\", \"john maynard smith\", \"fruit\", \"cervical vertebra\", \"flea\", \"new zealand lesser short-tailed bat\", \"mite\", \"common vampire bat\", \"nectar\", \"respiratory system\", \"lice\", \"pollen\", \"stroke volume\", \"fungus\", \"beats per minute\", \"digestive system\", \"pollinate\", \"digestive enzyme\", \"caddisflies\", \"malt sugar\", \"insectivorous\", \"renal papilla\", \"yunnan\", \"electrolyte imbalance\", \"blood urea nitrogen\", \"uterine horn\", \"vertebrate\", \"matrilineal\", \"doppler effect\", \"promiscuity\", \"hibernating\", \"creek\", \"cherokee\", \"trickster\", \"aztec\", \"mythology\", \"tonga\", \"soul\", \"macbeth\", \"bat\", \"valencia\", \"fraga\", \"albacete\", \"usd\", \"fertiliser\", \"saltpetre\", \"gunpowder\", \"fish\", \"tendon\", \"austin\", \"texas\", \"malaysia\", \"poland\", \"fiction\", \"dracula\", \"novel\", \"fresnel lens\", \"sars-cov-2\", \"lesser galago\", \"bat-eared fox\", \"mouse lemur\", \"ectoparasite\", \"interference pattern\", \"nycteribiidae\", \"echolocation jamming\", \"streblidae\", \"tympanal organ\", \"visual acuity\", \"mesopic vision\", \"photopic vision\", \"earth's magnetic field\", \"zoonosis\", \"histoplasmosis\", \"thermal conductivity\", \"henipavirus\", \"pteropus hypomelanus\", \"yuma myotis\", \"sympatry\", \"pallid bat\", \"zoonotic\", \"coronavirus\", \"covid-19\", \"common blossom bat\", \"long-tongued nectar bat\", \"eastern tube-nosed bat\", \"greek language\", \"barotrauma\", \"popobawa\", \"sodomises\", \"silverwing\", \"extant taxon\", \"etruscan shrew\", \"diurnal cycle\", \"animal migration\", \"euderma maculatum\", \"vitamin c\", \"little brown bat\", \"brown long-eared bat\", \"seed dispersal\", \"jamaican fruit bat\", \"immune system\", \"tube-lipped nectar bat\", \"fringe-lipped bat\", \"greater noctule bat\", \"noctilio leporinus\", \"spectral bat\", \"ghost bat\", \"white-winged vampire bat\", \"evolutionary arms race\", \"hairy-legged vampire bat\", \"birds of prey\", \"bat bug\", \"white nose syndrome\", \"eastern united states\", \"pseudogymnoascus destructans\", \"new england\", \"mid-atlantic states\", \"ebola virus\", \"severe acute respiratory syndrome\", \"bracken cave\", \"mouse-eared bat\", \"swarm behaviour\", \"fission–fusion society\", \"mutual grooming\", \"greater spear-nosed bat\", \"sexual dimorphism\", \"hammer-headed bat\", \"little yellow-shouldered bat\", \"greater sac-winged bat\", \"polygyny in animals\", \"monogamy in animals\", \"lek mating\", \"mating plug\", \"delayed implantation\", \"maternity colony\", \"siberian bat\", \"lesser mouse-eared bat\", \"greater horseshoe bat\", \"indian flying fox\", \"rate-of-living theory\", \"metabolic rate\", \"bat conservation international\", \"wildlife and countryside act\", \"malaysian wildlife law\", \"hairless bat\", \"christmas island pipistrelle\", \"university of florida\", \"british hardened field defences of world war ii\", \"cave gate\", \"bat as food\", \"wind turbine\", \"avian lungs\", \"liminal being\", \"native americans in the united states\", \"apache tribe\", \"evil spirit\", \"zapotec civilisation\", \"weird sisters\", \"count dracula\", \"varney the vampire\", \"dc comics\", \"kenneth oppel\", \"silver-haired bat\", \"palma de mallorca\", \"montchauvet, yvelines\", \"virginia big-eared bat\", \"us civil war\", \"nitrifying bacteria\", \"ann w. richards congress avenue bridge\", \"austin, texas\", \"united kingdom\"]\n",
    "print(len(data_raw))\n",
    "data = filter_basic(data_raw)\n",
    "data = filter_plural(data)\n",
    "print(len(data))\n",
    "\n",
    "Bat = filter_list(data)"
   ]
  },
  {
   "cell_type": "code",
   "execution_count": 37,
   "id": "c0cdfe0b",
   "metadata": {},
   "outputs": [
    {
     "name": "stdout",
     "output_type": "stream",
     "text": [
      "['vampire', 'nocturnal', 'insectivore', 'megabat', 'microbat', 'hematophagy', 'frugivore', 'wing', 'bird', 'skin', 'patagium', 'guano', 'pathogen', 'pterosaur', 'blood', 'hibernation', 'mammal', 'flight', 'dusk', 'dawn', 'echolocation', 'predator', 'rabies', 'cave', 'ultrasound']\n"
     ]
    }
   ],
   "source": [
    "Bat = ['vampire', 'nocturnal', 'insectivore', 'megabat', 'microbat', 'hematophagy', 'frugivore', 'wing', 'bird', 'skin', 'patagium', 'guano', 'pathogen', 'pterosaur', 'blood', 'hibernation', 'mammal', 'flight', 'dusk', 'dawn', 'echolocation', 'predator', 'rabies', 'cave', 'ultrasound']\n",
    "print(Bat)"
   ]
  },
  {
   "cell_type": "markdown",
   "id": "80575357",
   "metadata": {},
   "source": [
    "### Peasant"
   ]
  },
  {
   "cell_type": "code",
   "execution_count": 7,
   "id": "af339290",
   "metadata": {},
   "outputs": [],
   "source": [
    "peasant = ['peasant', 'pleb', 'scrub', 'village', 'nitwit', 'bread', 'grain', 'shoddy', 'plain', 'simple', 'farmer', 'pitchfork', 'haystack', 'shepherd', 'poor', 'illiterate', 'potato', 'hungry', 'famine', 'starving', 'lowborn', 'commoner', 'inferior', 'torch', 'stench', 'manure']\n",
    "peasant = create_list(\"peasant\", peasant)"
   ]
  },
  {
   "cell_type": "code",
   "execution_count": 8,
   "id": "f88b62f0",
   "metadata": {},
   "outputs": [
    {
     "name": "stdout",
     "output_type": "stream",
     "text": [
      "26\n",
      "['peasant', 'pleb', 'scrub', 'village', 'nitwit', 'bread', 'grain', 'shoddy', 'plain', 'simple', 'farmer', 'pitchfork', 'haystack', 'shepherd', 'poor', 'illiterate', 'potato', 'hungry', 'famine', 'starving', 'lowborn', 'commoner', 'inferior', 'torch', 'stench', 'manure']\n"
     ]
    }
   ],
   "source": [
    "print(len(peasant))\n",
    "print(peasant)"
   ]
  },
  {
   "cell_type": "code",
   "execution_count": 22,
   "id": "9083d384",
   "metadata": {},
   "outputs": [
    {
     "name": "stdout",
     "output_type": "stream",
     "text": [
      "previous line: cultivate\n",
      "campesino\n",
      "pause\n",
      "pausing, returned (x, x_unfiltered)\n",
      "2\n"
     ]
    }
   ],
   "source": [
    "data_raw = [\"farmer\", \"barbarian\", \"peasantry\", \"serfdom\", \"agrarian\", \"rustic\", \"provincial\", \"bucolic\", \"churl\", \"boor\", \"goth\", \"tyke\", \"tike\", \"fellah\", \"rural\", \"muzhik\", \"countryside\", \"immigrant\", \"agricultural\", \"farming\", \"farm\", \"farmers\", \"traditional\", \"mestizo\", \"landless\", \"literacy\", \"bourgeoisie\", \"revolutionaries\", \"proletariat\", \"serf\", \"person\", \"feudalism\", \"slavery\", \"cotter\", \"moujik\", \"copyhold\", \"peasants\", \"money\", \"mujik\", \"cottar\", \"muzjik\", \"socage\", \"quit-rent\", \"countryman\", \"manor\", \"bishop\", \"mulatto\", \"smallholder\", \"middle ages\", \"croft\", \"ethnic\", \"laborers\", \"agriculture\", \"rebellious\", \"aristocratic\", \"sharecroppers\", \"compatriot\", \"labourers\", \"vietnamese\", \"grange\", \"RELATED WORDS CONTINUE AFTER ADVERTISEMENT\", \"farmland\", \"neapolitan\", \"farmhouse\", \"slovene\", \"countrywide\", \"slave\", \"moshav\", \"secessionist\", \"nomadic\", \"hippie\", \"rebellion\", \"uneducated\", \"serfs\", \"laborer\", \"cultivable\", \"afrikaner\", \"yemenite\", \"bedouin\", \"albanian\", \"mongolian\", \"homeland\", \"migrant\", \"countryperson\", \"occupations\", \"fee simple\", \"tillage\", \"canarian\", \"country\", \"roots\", \"bosniak\", \"slaves\", \"leftist\", \"aristocracy\", \"tutsi\", \"pasture\", \"rancher\", \"palau\", \"revolt\", \"caucasian\", \"revolts\", \"seamstress\", \"patriotism\", \"indigenous\", \"folksy\", \"nation\", \"berber\", \"cultivation\", \"romani\", \"land tenure\", \"fielden\", \"mexican\", \"nationalism\", \"upbringing\", \"populace\", \"farmhand\", \"collar\", \"subsistence\", \"cossack\", \"uprisings\", \"basque\", \"predominantly\", \"fascist\", \"bahamas\", \"countryfolk\", \"nobility\", \"ranching\", \"mannerist\", \"hungarian\", \"revolutionary\", \"unpleasant person\", \"medieval\", \"agricultural labourer\", \"disagreeable person\", \"agricultural laborer\", \"herdsmen\", \"landowning\", \"illiterate\", \"tibetan\", \"unskilled\", \"beet\", \"indentured\", \"agriculturist\", \"barbados\", \"samoa\", \"circassian\", \"banana\", \"ru\", \"hungarians\", \"mestizos\", \"guatemalan\", \"insurrection\", \"guerilla\", \"unemployed\", \"bohemian\", \"enclosure\", \"servants\", \"tuvalu\", \"vanuatu\", \"nationalist\", \"haiti\", \"anguilla\", \"japanophilia\", \"scrubland\", \"comoros\", \"fatherland\", \"factory\", \"cultivate\", \"campesino\", \"oblast\", \"countrylike\", \"citizen\", \"vietnam\", \"belize\", \"etruria\", \"till\", \"israel\", \"working-class\", \"leasehold estate\", \"cultivator\", \"tonga\", \"uruguay\", \"uganda\", \"farmscape\", \"jamaica\", \"moldovan\", \"farmery\", \"countryless\", \"livestock\", \"noncountry\", \"ferm\", \"multicountry\", \"donghak\", \"urbanization\", \"villager\", \"algeria\", \"micronesia\", \"farmwork\", \"population\", \"bolivia\", \"thede\", \"husbandry\", \"fiji\", \"nationwide\", \"hydroponics\", \"philippine\", \"venezuela\", \"sharecropper\", \"nauru\", \"cambodia\", \"egypt\", \"italian language\", \"cyprus\", \"moldavia\", \"middle-class\", \"chile\", \"muralism\", \"blue-collar\", \"brunei\", \"burundi\", \"oaxacan\", \"grenada\", \"ussr\", \"aruba\", \"brazil\", \"iraqi\", \"dominica\", \"assyrian\", \"nationally\", \"pre-industrial society\", \"holland\", \"national\", \"benin\", \"bulgaria\", \"bermuda\", \"civilization\", \"kiribati\", \"cameroon\", \"china\", \"transalpine\", \"yemen\", \"overcrop\", \"wold\", \"lesotho\", \"ethiopia\", \"mixed-race\", \"sweden\", \"grower\", \"seychelles\", \"farmable\", \"bhutan\", \"denmark\", \"african-american\", \"maldives\", \"weald\", \"culture\", \"market economy\", \"trotskyite\", \"smallholding\", \"mali\", \"bangladesh\", \"province\", \"semi-nomadic\", \"ukraine\", \"ranch\", \"serbia\", \"emigration\", \"well-to-do\", \"nationalise\", \"europeanisation\", \"rube\", \"open field system\", \"hick\", \"anthropology\", \"monoculture\", \"farmworker\", \"superfarm\", \"hillbilly\", \"neologism\", \"mongrel\", \"sheepwalk\", \"merestead\", \"redneck\", \"microstate\", \"bauer\", \"lord of the manor\", \"piggery\", \"independent\", \"euroregion\", \"cracker\", \"fieldman\", \"farmboy\", \"farmstand\", \"proletarian\", \"chicha\", \"zamindar\", \"nobleman\", \"aristocrat\", \"herder\", \"nobles\", \"cacique\", \"cowherd\", \"bourgeois\", \"socialist\", \"hussar\", \"shepherdess\", \"highland\", \"goatherd\", \"caudillo\", \"milkmaid\", \"capitalist\", \"gaucho\", \"burgher\", \"hussite\", \"conquistadores\", \"woodcutter\", \"altiplano\", \"lowlanders\", \"gonds\", \"santal\", \"aymara\", \"manchus\", \"mendicant\", \"caballero\", \"zamindars\", \"hacienda\", \"aveyron\", \"subaltern\", \"arboriculture\", \"laundress\", \"catholic church\", \"agroecosystem\", \"czechia\", \"nong\", \"grow corn\", \"homeling\", \"black death\", \"farmgate\", \"marxism\", \"medieval europe\", \"tenant farmer\", \"tax haven\", \"rambam\", \"farm out\", \"age of enlightenment\", \"maimonides\", \"burkina faso\", \"british virgin island\", \"industrial revolution\", \"raise crop\", \"grow food\", \"trinidad and tobago\", \"industrial labour\", \"golem\", \"banana republic\", \"farm land\", \"falah\", \"kulak\", \"fellahin\", \"kolkhoz\", \"mestiza\", \"igorots\", \"quechuan\", \"babushka\", \"mulattos\", \"collectivisation\", \"adivasi\", \"latifundia\", \"curandera\", \"laundrywoman\", \"vietminh\", \"kulaks\", \"landrace\", \"cotacachi\", \"cape verde\", \"hire out\", \"karl marx\", \"cayman island\", \"bosnia and herzegovina\", \"grow crop\", \"yellow horde\", \"truck farm\", \"solomon island\", \"christmas island\", \"cattle station\", \"livestock farm\", \"fur farm\", \"antigua and barbuda\", \"saudi arabia\", \"east timor\", \"north korea\", \"mishnah\", \"saint lucia\", \"south korea\", \"cultivate land\", \"organic farm\", \"dominican republic\", \"overseas chinese\", \"papua new guinea\", \"south american country\", \"low german\", \"sunday house\", \"central africa\", \"eugen weber\", \"new zealand\", \"sri lanka\", \"national flag\", \"tour de france\", \"wild flower\", \"country music\", \"political entity\", \"native soil\", \"tank farm\", \"gold farm\", \"chacham\", \"japanese people\", \"agency\", \"modernization\", \"gentleman farmer\", \"populate area\", \"czech republic\", \"unite arab republic\", \"chasid\", \"feudal japan\", \"frederick w. mote\", \"ming dynasty\", \"petit bourgeois\", \"petite bourgeoisie\", \"petty bourgeoisie\", \"subsistence farmer\", \"landed gentry\", \"manchu dynasty\", \"francisco pizarro\", \"petty bourgeois\", \"paris commune\", \"feudal lord\", \"qing dynasty\", \"western world\", \"am ha'aretz\", \"pirke avot\", \"annales school\", \"fernand braudel\", \"florian znaniecki\", \"third world\", \"daniel thorner\", \"eric wolf\", \"mao zedong\", \"robert redfield\", \"fei xiaotong\", \"peasant movement\", \"journal of peasant studies\", \"james c. scott\", \"transition from feudalism to capitalism\", \"peasant revolt\"]\n",
    "print(len(data_raw))\n",
    "data = filter_basic(data_raw)\n",
    "print(len(data))\n",
    "data = filter_plural(data)\n",
    "print(len(data))\n",
    "\n",
    "peasant = filter_list(data)\n",
    "print(len(peasant))"
   ]
  },
  {
   "cell_type": "code",
   "execution_count": 27,
   "id": "0e189aa7",
   "metadata": {},
   "outputs": [],
   "source": [
    "peasant = ['farmer', 'peasantry', 'serfdom', 'agrarian', 'rustic', 'bucolic', 'churl', 'boor', 'rural', 'countryside', 'agricultural', 'farm', 'person', 'countryman', 'croft', 'agriculture', 'rebellious', 'labourers', 'grange', 'farmland', 'farmhouse', 'slave', 'rebellion', 'uneducated', 'laborer', 'tillage', 'country', 'revolt', 'patriotism', 'folksy', 'populace', 'farmhand', 'revolutionary', 'illiterate', 'unemployed', 'servants']"
   ]
  },
  {
   "cell_type": "markdown",
   "id": "ea9241d5",
   "metadata": {},
   "source": [
    "### farmer"
   ]
  },
  {
   "cell_type": "code",
   "execution_count": 31,
   "id": "81219ac3",
   "metadata": {},
   "outputs": [
    {
     "name": "stdout",
     "output_type": "stream",
     "text": [
      "previous line: holstein added: 66 todo: 171\n",
      "raised\n",
      "pause\n",
      "pausing, returned (x, x_unfiltered)\n"
     ]
    }
   ],
   "source": [
    "data_raw = [\"ranch\", \"agriculture\", \"dairy\", \"livestock\", \"vineyard\", \"farmer\", \"dairy farm\", \"orchard\", \"cattle\", \"plantation\", \"pasture\", \"rural\", \"crop\", \"piggery\", \"farmyard\", \"agricultural\", \"farmhouse\", \"farming\", \"grow\", \"farmstead\", \"farmland\", \"barn\", \"dairy farming\", \"feedlot\", \"produce\", \"hog\", \"animal husbandry\", \"raise\", \"smallholding\", \"grange\", \"work\", \"tractor\", \"cultivate\", \"husbandry\", \"croft\", \"land\", \"truck farm\", \"sheepwalk\", \"ox\", \"rancher\", \"monoculture\", \"cow\", \"farmhand\", \"cultivator\", \"goat\", \"harvest\", \"RELATED WORDS CONTINUE AFTER ADVERTISEMENT\", \"agrarian\", \"barnyard\", \"poultry farming\", \"cattle ranch\", \"grower\", \"crops\", \"sheep\", \"wind farm\", \"cowshed\", \"meat\", \"manure\", \"poultry\", \"corn\", \"field\", \"grazing\", \"beef\", \"estate\", \"cows\", \"pig\", \"horticulture\", \"cattleman\", \"hay\", \"cowman\", \"cornfield\", \"dairy cattle\", \"collective farming\", \"fiber\", \"biofuel\", \"commodity\", \"cultivable\", \"carry\", \"spread\", \"keep\", \"collect\", \"workplace\", \"aquaculture\", \"farmery\", \"farmscape\", \"hydroponics\", \"cultivation\", \"farmable\", \"agriculturist\", \"ferm\", \"farms\", \"epoch\", \"holocene\", \"overcrop\", \"tillage\", \"sheeprun\", \"farm-place\", \"overproduce\", \"home-farm\", \"vinery\", \"farmplace\", \"till\", \"hectare\", \"farmers\", \"farmwork\", \"superfarm\", \"cereal\", \"hunter-gatherer\", \"agronomy\", \"fielden\", \"mill\", \"heifer\", \"plant\", \"countryside\", \"agroecosystem\", \"farmstand\", \"pastoralism\", \"plants\", \"arable land\", \"wheat\", \"farmgate\", \"cottage\", \"lumber\", \"timber\", \"small\", \"rancho\", \"ranching\", \"nursery\", \"factory\", \"food\", \"grain\", \"moshav\", \"ranches\", \"pig farming\", \"forest\", \"arboriculture\", \"mills\", \"growers\", \"large\", \"abandoned\", \"subsidies\", \"creek\", \"construction\", \"craw\", \"plow\", \"area\", \"farm out\", \"village\", \"acres\", \"fishing\", \"worker\", \"grove\", \"planting\", \"tobacco\", \"pond\", \"plantations\", \"park\", \"rice\", \"grass\", \"holstein\", \"raised\", \"factories\", \"fish\", \"spring\", \"california\", \"workers\", \"prairie\", \"paddy\", \"ranchers\", \"cotton\", \"breeding\", \"peasant\", \"grown\", \"purchased\", \"garden\", \"raising\", \"property\", \"intercrop\", \"owners\", \"logging\", \"farmwear\", \"acreage\", \"thriving\", \"owned\", \"subsidy\", \"feed\", \"harvesting\", \"home\", \"udder\", \"elk\", \"town\", \"areas\", \"forestry\", \"wood\", \"livestock farm\", \"industry\", \"merestead\", \"cutting\", \"subsidized\", \"herds\", \"largest\", \"farmboy\", \"piglet\", \"heaf\", \"bovine\", \"farmgirl\", \"fairground\", \"farmworker\", \"fur farm\", \"cattle station\", \"rowen\", \"beanfield\", \"fertilize\", \"bos\", \"raise crop\", \"stud farm\", \"sewage farm\", \"cattle farm\", \"pig farm\", \"do work\", \"truck garden\", \"take in\", \"chicken farm\", \"hire out\", \"steelbow\", \"grow corn\", \"maizefield\", \"fertile crescent\", \"inseminate\", \"mutton\", \"eatage\", \"friesian\", \"grow food\", \"swine\", \"sower\", \"feudal land tenure\", \"landfarming\", \"organic farm\", \"lamb\", \"mammal\", \"paddock\", \"stirk\", \"milk\", \"cowyard\", \"regrow\", \"pigsty\", \"tenant farmer\", \"piggy\", \"neolithic revolution\", \"geologic time scale\", \"cowlike\", \"cowy\", \"noncow\", \"anticow\", \"dairyhouse\", \"hereford\", \"calf\", \"cowpoke\", \"dogie\", \"acre\", \"scur\", \"aftergrowth\", \"cowpool\", \"british agricultural revolution\", \"gold farm\", \"cowshit\", \"cowpie\", \"green revolution\", \"vicontiels\", \"cream\", \"grow crop\", \"fieldman\", \"butter\", \"cowhouse\", \"cow pasture\", \"farm animal\", \"headage\", \"cheese\", \"pigweed\", \"herbivorous\", \"ovine\", \"cowperson\", \"miscrop\", \"cowpooling\", \"croftland\", \"veal\", \"intergrown\", \"ungrown\", \"bovid\", \"sheeple\", \"uncropped\", \"intergrow\", \"paddyland\", \"misgrow\", \"tank farm\", \"fish farm\", \"growingly\", \"ingrow\", \"grainfield\", \"growable\", \"shoat\", \"agrochemical\", \"floriculturist\", \"maize\", \"mink farm\", \"homestead\", \"dairyman\", \"slaughterhouse\", \"breeder\", \"abattoir\", \"apiary\", \"goats\", \"monticule\", \"herd\", \"creamery\", \"chickens\", \"agribusiness\", \"pastureland\", \"beekeeping\", \"cannery\", \"agri\", \"greenhouses\", \"arable\", \"stockyard\", \"harvester\", \"haying\", \"winery\", \"hatchery\", \"sawmill\", \"hayfield\", \"wheelwright\", \"vegetable\", \"windmill\", \"watermill\", \"alfalfa\", \"cultivate land\", \"crop rotation\", \"silage\", \"market gardening\", \"chicken\", \"wild flower\", \"hill farm\", \"broiler\", \"turkeys\", \"cow shed\", \"black angus\", \"duck\", \"corporate farming\", \"fonterra\", \"fowl\", \"hunter gatherer\", \"produce food\", \"intensive farming\", \"organic farming\", \"give milk\", \"vertical farming\", \"order field\", \"farm yard\", \"paddy field\", \"ant farm\", \"sunday house\", \"farm land\", \"faming\", \"suckler\", \"packinghouse\", \"herefords\", \"woolshed\", \"shamba\", \"sheller\", \"cheesemaking\", \"horseshoer\", \"weaner\", \"cheesemaker\", \"packhouse\", \"farmer's field\", \"feudalism\", \"eat grass\", \"find on farm\", \"puppy mill\", \"grow vegetable\", \"democracy\", \"modernization\", \"in countryside\", \"mechanization\", \"cowboy movie\", \"scalar field\", \"product\", \"domestic goat\", \"commutative ring\", \"feorm fultum\", \"gentleman farmer\", \"rural area\", \"farm runoff\", \"plant seed\", \"holstein friesian cattle\", \"rangeland\", \"rice grow\", \"norwegian red\", \"integral domain\", \"kostroma cattle\", \"noetherian domain\", \"domestic sheep\", \"grow op\", \"chine cotton\", \"brown swiss\", \"western world\", \"pakistan\", \"station\", \"australia\", \"plough\", \"harrow\", \"baler\", \"satellite\", \"wired\", \"southern hemisphere\", \"sharecropping\", \"subsistence agriculture\", \"dairy farmer\", \"beef cattle\", \"peach orchard\", \"apple orchard\", \"cider mill\", \"vegetable garden\", \"sugar beet\", \"sweet corn\", \"dairy cow\", \"threshing machine\", \"reprap\", \"self-sufficiency\", \"prison farm\", \"agrarian societies\", \"distribution of property\", \"form of government\", \"socialist state\", \"communist state\", \"tenant farming\", \"world bank\", \"industrial revolution\", \"urban area\", \"open source ecology\", \"open source hardware\", \"hobby farm\", \"3d printer\", \"combine harvester\", \"intellectual property\"]\n",
    "data = filter_basic(data_raw)\n",
    "data = filter_plural(data)\n",
    "\n",
    "farmer = filter_list(data)"
   ]
  },
  {
   "cell_type": "code",
   "execution_count": 32,
   "id": "89dc380c",
   "metadata": {},
   "outputs": [
    {
     "name": "stdout",
     "output_type": "stream",
     "text": [
      "['ranch', 'agriculture', 'dairy', 'livestock', 'vineyard', 'farmer', 'orchard', 'cattle', 'plantation', 'pasture', 'rural', 'crop', 'piggery', 'farmyard', 'agricultural', 'farmhouse', 'farming', 'grow', 'farmstead', 'farmland', 'barn', 'feedlot', 'produce', 'hog', 'smallholding', 'grange', 'work', 'cultivate', 'husbandry', 'croft', 'land', 'ox', 'rancher', 'cow', 'farmhand', 'goat', 'harvest', 'agrarian', 'barnyard', 'sheep', 'meat', 'manure', 'poultry', 'corn', 'field', 'pig', 'horticulture', 'hay', 'cornfield', 'fiber', 'agriculturist', 'tillage', 'vinery', 'farmplace', 'till', 'hectare', 'mill', 'plant', 'countryside', 'wheat', 'cottage', 'lumber', 'timber', 'grain', 'worker', 'grove']\n"
     ]
    }
   ],
   "source": [
    "farmer = ['ranch', 'agriculture', 'dairy', 'livestock', 'vineyard', 'farmer', 'orchard', 'cattle', 'plantation', 'pasture', 'rural', 'crop', 'piggery', 'farmyard', 'agricultural', 'farmhouse', 'farming', 'grow', 'farmstead', 'farmland', 'barn', 'feedlot', 'produce', 'hog', 'smallholding', 'grange', 'work', 'cultivate', 'husbandry', 'croft', 'land', 'ox', 'rancher', 'cow', 'farmhand', 'goat', 'harvest', 'agrarian', 'barnyard', 'sheep', 'meat', 'manure', 'poultry', 'corn', 'field', 'pig', 'horticulture', 'hay', 'cornfield', 'fiber', 'agriculturist', 'tillage', 'vinery', 'farmplace', 'till', 'hectare', 'mill', 'plant', 'countryside', 'wheat', 'cottage', 'lumber', 'timber', 'grain', 'worker', 'grove']"
   ]
  },
  {
   "cell_type": "code",
   "execution_count": 34,
   "id": "e15f5855",
   "metadata": {},
   "outputs": [
    {
     "name": "stdout",
     "output_type": "stream",
     "text": [
      "['serfdom', 'country', 'farmstead', 'plant', 'work', 'unemployed', 'pig', 'manure', 'revolutionary', 'cornfield', 'worker', 'rebellion', 'ranch', 'farmland', 'revolt', 'till', 'meat', 'agriculturist', 'rural', 'fiber', 'croft', 'grain', 'piggery', 'grove', 'feedlot', 'corn', 'uneducated', 'mill', 'cottage', 'wheat', 'produce', 'rancher', 'tillage', 'barn', 'farmyard', 'harvest', 'servants', 'rebellious', 'plantation', 'boor', 'dairy', 'peasantry', 'barnyard', 'agricultural', 'sheep', 'hay', 'slave', 'smallholding', 'farmhand', 'bucolic', 'farming', 'folksy', 'agriculture', 'hectare', 'lumber', 'farmhouse', 'grow', 'churl', 'poultry', 'cultivate', 'ox', 'hog', 'grange', 'populace', 'rustic', 'agrarian', 'farmplace', 'crop', 'cattle', 'livestock', 'pasture', 'laborer', 'patriotism', 'farmer', 'husbandry', 'vineyard', 'land', 'person', 'labourers', 'countryman', 'vinery', 'cow', 'goat', 'countryside', 'orchard', 'horticulture', 'timber', 'illiterate', 'field', 'farm']\n"
     ]
    }
   ],
   "source": [
    "print(list(set(farmer+peasant)))"
   ]
  },
  {
   "cell_type": "code",
   "execution_count": null,
   "id": "4f01d925",
   "metadata": {},
   "outputs": [],
   "source": []
  },
  {
   "cell_type": "code",
   "execution_count": null,
   "id": "ad2e6eff",
   "metadata": {},
   "outputs": [],
   "source": []
  }
 ],
 "metadata": {
  "kernelspec": {
   "display_name": "Python 3 (ipykernel)",
   "language": "python",
   "name": "python3"
  },
  "language_info": {
   "codemirror_mode": {
    "name": "ipython",
    "version": 3
   },
   "file_extension": ".py",
   "mimetype": "text/x-python",
   "name": "python",
   "nbconvert_exporter": "python",
   "pygments_lexer": "ipython3",
   "version": "3.9.7"
  }
 },
 "nbformat": 4,
 "nbformat_minor": 5
}
